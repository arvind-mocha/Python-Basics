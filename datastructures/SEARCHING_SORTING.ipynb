{
 "cells": [
  {
   "cell_type": "markdown",
   "metadata": {},
   "source": [
    "# LINERA SEARCH"
   ]
  },
  {
   "cell_type": "markdown",
   "metadata": {},
   "source": [
    "#### 1.Searching from First value to Last value"
   ]
  },
  {
   "cell_type": "code",
   "execution_count": 16,
   "metadata": {},
   "outputs": [],
   "source": [
    "def Lsearch(arr,n,key):\n",
    "    index = 0\n",
    "    while index < n:\n",
    "        if arr[index] == key:\n",
    "            return f'{key} Found at index {index}'\n",
    "        index += 1\n",
    "    return 'Not Found'"
   ]
  },
  {
   "cell_type": "code",
   "execution_count": 17,
   "metadata": {},
   "outputs": [
    {
     "name": "stdout",
     "output_type": "stream",
     "text": [
      "5 Found at index 4\n"
     ]
    }
   ],
   "source": [
    "arr = [1,9,3,24,5]\n",
    "print(Lsearch(arr,5,5))"
   ]
  },
  {
   "cell_type": "markdown",
   "metadata": {},
   "source": [
    "# BINARY SEARCH ITERATION"
   ]
  },
  {
   "cell_type": "markdown",
   "metadata": {},
   "source": [
    "#### 1. The List must be sorted\n",
    "#### 2. Searching from the middle\n",
    "#### 3. If search value is greater than mid value serach for key only from the values after the mid\n",
    "#### 4. If search value is lesser than mid value search for key only from the values before mid"
   ]
  },
  {
   "cell_type": "code",
   "execution_count": 18,
   "metadata": {},
   "outputs": [],
   "source": [
    "def Bsearch_iter(arr,key):\n",
    "    l = 0\n",
    "    r = len(arr) - 1\n",
    "    \n",
    "    while l <= r:\n",
    "        mid = ( l+r ) // 2\n",
    "        if key == arr[mid]:\n",
    "            return f'{key} found at index {mid}'\n",
    "        elif key < arr[mid]:\n",
    "            r = mid - 1\n",
    "        elif key > arr[mid]:\n",
    "            l = mid + 1\n",
    "    return 'Not Found'"
   ]
  },
  {
   "cell_type": "code",
   "execution_count": 19,
   "metadata": {},
   "outputs": [
    {
     "name": "stdout",
     "output_type": "stream",
     "text": [
      "5 found at index 3\n"
     ]
    }
   ],
   "source": [
    "arr = [2,3,4,5,6,7]\n",
    "print(Bsearch_iter(arr,5))"
   ]
  },
  {
   "cell_type": "markdown",
   "metadata": {},
   "source": [
    "# BINARY SEARCH RECURSSION"
   ]
  },
  {
   "cell_type": "code",
   "execution_count": 20,
   "metadata": {},
   "outputs": [],
   "source": [
    "def Bsearch_rec(arr,key, L, R):\n",
    "    if L > R:\n",
    "        return 'Not Found'\n",
    "    else:\n",
    "        mid = ( L + R ) // 2\n",
    "\n",
    "        if key == arr[mid]:\n",
    "            return f'{key} found at {mid}'\n",
    "\n",
    "        elif key > arr[mid]:\n",
    "            return Bsearch_rec(arr, key, mid + 1, R)\n",
    "\n",
    "        elif key < arr[mid]:\n",
    "            return Bsearch_rec(arr, key, L, mid-1)"
   ]
  },
  {
   "cell_type": "code",
   "execution_count": 21,
   "metadata": {},
   "outputs": [
    {
     "name": "stdout",
     "output_type": "stream",
     "text": [
      "6 found at 5\n"
     ]
    }
   ],
   "source": [
    "arr = [1,2,3,4,5,6,7]\n",
    "print(Bsearch_rec(arr,6,0,5))"
   ]
  },
  {
   "cell_type": "markdown",
   "metadata": {},
   "source": [
    "# SELECTION SORT"
   ]
  },
  {
   "cell_type": "markdown",
   "metadata": {},
   "source": [
    "#### 1. Algorithm Starts from 0th index\n",
    "#### 2. i runs n number time\n",
    "#### 3. on each iteration i is compared with each elements on right to it \n",
    "#### 4. at the end of each iteration of i the smallest value gets sorted "
   ]
  },
  {
   "cell_type": "code",
   "execution_count": 39,
   "metadata": {},
   "outputs": [],
   "source": [
    "def selection(arr):\n",
    "    n = len(arr)\n",
    "    for i in range(n-1):\n",
    "        position = i\n",
    "        for j in range(i+1, n):\n",
    "            if arr[j] < arr[position]:\n",
    "                position = j # index of the smallest number\n",
    "        arr[i], arr[position] = arr[position], arr[i]\n",
    "    return arr"
   ]
  },
  {
   "cell_type": "code",
   "execution_count": 40,
   "metadata": {},
   "outputs": [
    {
     "name": "stdout",
     "output_type": "stream",
     "text": [
      "[1, 2, 3, 4, 5]\n"
     ]
    }
   ],
   "source": [
    "A = [5,4,3,2,1]\n",
    "print(selection(A))"
   ]
  },
  {
   "cell_type": "markdown",
   "metadata": {},
   "source": [
    "# INSERTION SORT"
   ]
  },
  {
   "cell_type": "markdown",
   "metadata": {},
   "source": [
    "#### 1. Algorithm Starts from 1st index\n",
    "#### 2. on each iteration of i, i is compared with i-1\n",
    "#### 3. if previous value ( i-1 ) is greater than ( i )  they are swapped\n",
    "#### 4. stop point : \n",
    "#### * we can't compare 0th index with less than 0th index\n",
    "#### * swap until ( i ) lesser than ( i-1 ) "
   ]
  },
  {
   "cell_type": "code",
   "execution_count": 15,
   "metadata": {},
   "outputs": [],
   "source": [
    "def insertion(arr):\n",
    "    n = len(arr)\n",
    "    for i in range(1,n):\n",
    "        cvalue = arr[i]\n",
    "        \n",
    "        while i > 0 and arr[i - 1] > cvalue:\n",
    "            arr[i] = arr[i - 1]\n",
    "            i -= 1\n",
    "        arr[i] = cvalue\n",
    "    return arr"
   ]
  },
  {
   "cell_type": "code",
   "execution_count": 16,
   "metadata": {},
   "outputs": [
    {
     "name": "stdout",
     "output_type": "stream",
     "text": [
      "[1, 2, 3, 4, 5, 6]\n"
     ]
    }
   ],
   "source": [
    "A = [6,5,4,3,2,1]\n",
    "print(insertion(A))"
   ]
  },
  {
   "cell_type": "markdown",
   "metadata": {},
   "source": [
    "# BUBBLE SORT"
   ]
  },
  {
   "cell_type": "markdown",
   "metadata": {},
   "source": [
    "#### 1. Alogorithm starts from 0th index\n",
    "#### 2. ( j ) is compared with ( j+1 ), if ( j+1 ) is greater than ( j ) they are swapped\n",
    "#### 3. at the end of each iteration of i the largest value is sorted to the right\n",
    "#### 4. since the largest value is sorted we can reduce the number of iteration\n",
    "#### 5. this is posiible by iterating ( i from largest to smallest ) and ( j from 0 to i )"
   ]
  },
  {
   "cell_type": "code",
   "execution_count": 31,
   "metadata": {},
   "outputs": [],
   "source": [
    "def bubble(arr):\n",
    "    n = len(arr)\n",
    "    for i in range(n-1,0,-1):\n",
    "        for j in range(i):\n",
    "            if arr[j] > arr[j+1]:\n",
    "                arr[j],arr[j+1] = arr[j+1],arr[j]\n",
    "    return arr"
   ]
  },
  {
   "cell_type": "code",
   "execution_count": 32,
   "metadata": {},
   "outputs": [
    {
     "name": "stdout",
     "output_type": "stream",
     "text": [
      "[1, 2, 3, 4, 5]\n"
     ]
    }
   ],
   "source": [
    "A = [5,4,3,2,1]\n",
    "print(bubble(A))"
   ]
  },
  {
   "cell_type": "markdown",
   "metadata": {},
   "source": [
    "# SHELL SORT"
   ]
  },
  {
   "cell_type": "markdown",
   "metadata": {},
   "source": [
    "#### 1. Algorithmn starts from the middle index which is ( n // 2 ) and index is increased eventually\n",
    "#### 2. elements are compared based on the gap between them\n",
    "#### 3. The swapping takes place when a element at the gap is present and it is larger than right side element \n",
    "#### 3. At The starting of the Algorithm the gap is ( n // 2 ) and they are eventually decreased into half\n",
    "#### 4. The Algorithm ends when the gap shrinks to 0"
   ]
  },
  {
   "cell_type": "code",
   "execution_count": 43,
   "metadata": {},
   "outputs": [],
   "source": [
    "# start the iteration from \n",
    "\n",
    "def shell(arr):\n",
    "    n = len(arr)\n",
    "    gap = n // 2\n",
    "\n",
    "    while gap > 0:\n",
    "        for i in range(gap,n):\n",
    "            temp = arr[i]\n",
    "            j = i\n",
    "            while j >= gap and arr[j-gap] > temp:\n",
    "                arr[j] = arr[j-gap]\n",
    "                j -= gap\n",
    "            arr[j] = temp\n",
    "        gap //= 2\n",
    "    return arr"
   ]
  },
  {
   "cell_type": "code",
   "execution_count": 44,
   "metadata": {},
   "outputs": [
    {
     "name": "stdout",
     "output_type": "stream",
     "text": [
      "[1, 2, 3, 4, 5]\n"
     ]
    }
   ],
   "source": [
    "A = [5,4,3,2,1]\n",
    "print(shell(A))"
   ]
  },
  {
   "cell_type": "markdown",
   "metadata": {},
   "source": [
    "# MERGESORT"
   ]
  },
  {
   "cell_type": "markdown",
   "metadata": {},
   "source": [
    "#### 1.  Algorithm starts with seperating all elements using recursion before that find mid\n",
    "#### 2. First iteration is the comparision between two elements which is the end result of seperation\n",
    "#### 3. each iteration has both left and right elements or set of left and right elements\n",
    "#### 4. after each iteration merging occurs with sorting of elements  \n",
    "#### 4. some iterations might not have left elements where comparision does not happen\n",
    "#### 5. i is to track left and j is to track right elements\n",
    "#### 6. k is to track the original array\n",
    "#### 7. after some merging of elements each value of left is comapred with each value of j\n",
    "#### 8. if left is smaller than right, left is inserted first then right else right is inserted first then left"
   ]
  },
  {
   "cell_type": "code",
   "execution_count": 34,
   "metadata": {},
   "outputs": [],
   "source": [
    "def seperate(myList):\n",
    "    if len(myList) > 1:\n",
    "        mid = len(myList) // 2\n",
    "        left = myList[:mid]\n",
    "        right = myList[mid:]\n",
    "\n",
    "        # Recursive call on each half\n",
    "        seperate(left)\n",
    "        seperate(right)\n",
    "        mergeSort(myList,left,mid,right)\n",
    "\n",
    "def mergeSort(myList,left,mid,right):\n",
    "\n",
    "    # Three iterators for traversing the two halves i,j and main list K\n",
    "    i, j, k = 0, 0, 0\n",
    "\n",
    "    while i < len(left) and j < len(right):\n",
    "        if left[i] < right[j]:\n",
    "            # The value from the left half has been used\n",
    "            myList[k] = left[i]\n",
    "            # Move the iterator forward\n",
    "            i += 1\n",
    "        else:\n",
    "            myList[k] = right[j]\n",
    "            j += 1\n",
    "        # Move to the next slot\n",
    "        k += 1\n",
    "\n",
    "    # For all the remaining values\n",
    "    while i < len(left):\n",
    "        myList[k] = left[i]\n",
    "        i += 1\n",
    "        k += 1\n",
    "\n",
    "    while j < len(right):\n",
    "        myList[k] = right[j]\n",
    "        j += 1\n",
    "        k += 1"
   ]
  },
  {
   "cell_type": "code",
   "execution_count": 35,
   "metadata": {},
   "outputs": [
    {
     "name": "stdout",
     "output_type": "stream",
     "text": [
      "[1, 2, 3, 4, 5, 11, 13]\n"
     ]
    }
   ],
   "source": [
    "A = [5,4,3,2,1,11,13]\n",
    "seperate(A)\n",
    "print(A)"
   ]
  },
  {
   "cell_type": "code",
   "execution_count": null,
   "metadata": {},
   "outputs": [],
   "source": []
  }
 ],
 "metadata": {
  "kernelspec": {
   "display_name": "Python 3",
   "language": "python",
   "name": "python3"
  },
  "language_info": {
   "codemirror_mode": {
    "name": "ipython",
    "version": 3
   },
   "file_extension": ".py",
   "mimetype": "text/x-python",
   "name": "python",
   "nbconvert_exporter": "python",
   "pygments_lexer": "ipython3",
   "version": "3.8.5"
  }
 },
 "nbformat": 4,
 "nbformat_minor": 4
}
