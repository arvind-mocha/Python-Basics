{
 "cells": [
  {
   "cell_type": "markdown",
   "metadata": {},
   "source": [
    "# LINEAR SEARCH"
   ]
  },
  {
   "cell_type": "markdown",
   "metadata": {},
   "source": [
    "#### 1.Searching from First value to Last value"
   ]
  },
  {
   "cell_type": "code",
   "execution_count": 1,
   "metadata": {},
   "outputs": [],
   "source": [
    "def Lsearch(arr,n,key):\n",
    "    index = 0\n",
    "    while index < n:\n",
    "        if arr[index] == key:\n",
    "            return f'{key} Found at index {index}'\n",
    "        index += 1\n",
    "    return 'Not Found'"
   ]
  },
  {
   "cell_type": "code",
   "execution_count": 2,
   "metadata": {},
   "outputs": [
    {
     "name": "stdout",
     "output_type": "stream",
     "text": [
      "5 Found at index 4\n"
     ]
    }
   ],
   "source": [
    "arr = [1,9,3,24,5]\n",
    "print(Lsearch(arr,5,5))"
   ]
  },
  {
   "cell_type": "markdown",
   "metadata": {},
   "source": [
    "# BINARY SEARCH ITERATION"
   ]
  },
  {
   "cell_type": "markdown",
   "metadata": {},
   "source": [
    "#### 1. The List must be sorted\n",
    "#### 2. Searching from the middle\n",
    "#### 3. If search value is greater than mid value search for key only from the values after the mid\n",
    "#### 4. If search value is lesser than mid value search for key only from the values before mid"
   ]
  },
  {
   "cell_type": "code",
   "execution_count": 3,
   "metadata": {},
   "outputs": [],
   "source": [
    "def Bsearch_iter(arr,key):\n",
    "    l = 0\n",
    "    r = len(arr) - 1\n",
    "    \n",
    "    while l <= r:\n",
    "        mid = ( l+r ) // 2\n",
    "        if key == arr[mid]:\n",
    "            return f'{key} found at index {mid}'\n",
    "        elif key < arr[mid]:\n",
    "            r = mid - 1\n",
    "        elif key > arr[mid]:\n",
    "            l = mid + 1\n",
    "    return 'Not Found'"
   ]
  },
  {
   "cell_type": "code",
   "execution_count": 4,
   "metadata": {},
   "outputs": [
    {
     "name": "stdout",
     "output_type": "stream",
     "text": [
      "5 found at index 3\n"
     ]
    }
   ],
   "source": [
    "arr = [2,3,4,5,6,7]\n",
    "print(Bsearch_iter(arr,5))"
   ]
  },
  {
   "cell_type": "markdown",
   "metadata": {},
   "source": [
    "# BINARY SEARCH RECURSSION"
   ]
  },
  {
   "cell_type": "code",
   "execution_count": 5,
   "metadata": {},
   "outputs": [],
   "source": [
    "def Bsearch_rec(arr,key, L, R):\n",
    "    if L > R:\n",
    "        return 'Not Found'\n",
    "    else:\n",
    "        mid = ( L + R ) // 2\n",
    "\n",
    "        if key == arr[mid]:\n",
    "            return f'{key} found at {mid}'\n",
    "\n",
    "        elif key > arr[mid]:\n",
    "            return Bsearch_rec(arr, key, mid + 1, R)\n",
    "\n",
    "        elif key < arr[mid]:\n",
    "            return Bsearch_rec(arr, key, L, mid-1)"
   ]
  },
  {
   "cell_type": "code",
   "execution_count": 6,
   "metadata": {},
   "outputs": [
    {
     "name": "stdout",
     "output_type": "stream",
     "text": [
      "6 found at 5\n"
     ]
    }
   ],
   "source": [
    "arr = [1,2,3,4,5,6,7]\n",
    "print(Bsearch_rec(arr,6,0,5))"
   ]
  },
  {
   "cell_type": "markdown",
   "metadata": {},
   "source": [
    "# SELECTION SORT"
   ]
  },
  {
   "cell_type": "markdown",
   "metadata": {},
   "source": [
    "#### 1. Algorithm Starts from 0th index\n",
    "#### 2. i runs n number time\n",
    "#### 3. on each iteration i is compared with each elements on right to it \n",
    "#### 4. at the end of each iteration of i the smallest value gets sorted "
   ]
  },
  {
   "cell_type": "code",
   "execution_count": 7,
   "metadata": {},
   "outputs": [],
   "source": [
    "def selection(arr):\n",
    "    n = len(arr)\n",
    "    for i in range(n-1):\n",
    "        position = i\n",
    "        for j in range(i+1, n):\n",
    "            if arr[j] < arr[position]:\n",
    "                position = j # index of the smallest number\n",
    "        arr[i], arr[position] = arr[position], arr[i]\n",
    "    return arr"
   ]
  },
  {
   "cell_type": "code",
   "execution_count": 8,
   "metadata": {},
   "outputs": [
    {
     "name": "stdout",
     "output_type": "stream",
     "text": [
      "[1, 2, 3, 4, 5]\n"
     ]
    }
   ],
   "source": [
    "A = [5,4,3,2,1]\n",
    "print(selection(A))"
   ]
  },
  {
   "cell_type": "markdown",
   "metadata": {},
   "source": [
    "# INSERTION SORT"
   ]
  },
  {
   "cell_type": "markdown",
   "metadata": {},
   "source": [
    "#### 1. Algorithm Starts from 1st index\n",
    "#### 2. on each iteration of i, i is compared with i-1\n",
    "#### 3. if previous value ( i-1 ) is greater than ( i )  they are swapped\n",
    "#### 4. stop point : \n",
    "#### * we can't compare 0th index with less than 0th index\n",
    "#### * swap until ( i ) lesser than ( i-1 ) "
   ]
  },
  {
   "cell_type": "code",
   "execution_count": 9,
   "metadata": {},
   "outputs": [],
   "source": [
    "def insertion(arr):\n",
    "    n = len(arr)\n",
    "    for i in range(1,n):\n",
    "        cvalue = arr[i]\n",
    "        \n",
    "        while i > 0 and arr[i - 1] > cvalue:\n",
    "            arr[i] = arr[i - 1]\n",
    "            i -= 1\n",
    "        arr[i] = cvalue\n",
    "    return arr"
   ]
  },
  {
   "cell_type": "code",
   "execution_count": 10,
   "metadata": {},
   "outputs": [
    {
     "name": "stdout",
     "output_type": "stream",
     "text": [
      "[1, 2, 3, 4, 5, 6]\n"
     ]
    }
   ],
   "source": [
    "A = [6,5,4,3,2,1]\n",
    "print(insertion(A))"
   ]
  },
  {
   "cell_type": "markdown",
   "metadata": {},
   "source": [
    "# BUBBLE SORT"
   ]
  },
  {
   "cell_type": "markdown",
   "metadata": {},
   "source": [
    "#### 1. Alogorithm starts from 0th index\n",
    "#### 2. ( j ) is compared with ( j+1 ), if ( j+1 ) is greater than ( j ) they are swapped\n",
    "#### 3. at the end of each iteration of i the largest value is sorted to the right\n",
    "#### 4. since the largest value is sorted we can reduce the number of iteration\n",
    "#### 5. this is posiible by iterating ( i from largest to smallest ) and ( j from 0 to i )"
   ]
  },
  {
   "cell_type": "code",
   "execution_count": 11,
   "metadata": {},
   "outputs": [],
   "source": [
    "def bubble(arr):\n",
    "    n = len(arr)\n",
    "    for i in range(n-1,0,-1):\n",
    "        for j in range(i):\n",
    "            if arr[j] > arr[j+1]:\n",
    "                arr[j],arr[j+1] = arr[j+1],arr[j]\n",
    "    return arr"
   ]
  },
  {
   "cell_type": "code",
   "execution_count": 12,
   "metadata": {},
   "outputs": [
    {
     "name": "stdout",
     "output_type": "stream",
     "text": [
      "[1, 2, 3, 4, 5]\n"
     ]
    }
   ],
   "source": [
    "A = [5,4,3,2,1]\n",
    "print(bubble(A))"
   ]
  },
  {
   "cell_type": "markdown",
   "metadata": {},
   "source": [
    "# SHELL SORT"
   ]
  },
  {
   "cell_type": "markdown",
   "metadata": {},
   "source": [
    "#### 1. Algorithmn starts from the middle index which is ( n // 2 ) and index is increased eventually\n",
    "#### 2. elements are compared based on the gap between them\n",
    "#### 3. The swapping takes place when a element at the gap is present and it is larger than right side element \n",
    "#### 3. At The starting of the Algorithm the gap is ( n // 2 ) and they are eventually decreased into half\n",
    "#### 4. The Algorithm ends when the gap shrinks to 0"
   ]
  },
  {
   "cell_type": "code",
   "execution_count": 13,
   "metadata": {},
   "outputs": [],
   "source": [
    "# start the iteration from \n",
    "\n",
    "def shell(arr):\n",
    "    n = len(arr)\n",
    "    gap = n // 2\n",
    "\n",
    "    while gap > 0:\n",
    "        for i in range(gap,n):\n",
    "            temp = arr[i]\n",
    "            j = i\n",
    "            while j >= gap and arr[j-gap] > temp:\n",
    "                arr[j] = arr[j-gap]\n",
    "                j -= gap\n",
    "            arr[j] = temp\n",
    "        gap //= 2\n",
    "    return arr"
   ]
  },
  {
   "cell_type": "code",
   "execution_count": 14,
   "metadata": {},
   "outputs": [
    {
     "name": "stdout",
     "output_type": "stream",
     "text": [
      "[1, 2, 3, 4, 5]\n"
     ]
    }
   ],
   "source": [
    "A = [5,4,3,2,1]\n",
    "print(shell(A))"
   ]
  },
  {
   "cell_type": "markdown",
   "metadata": {},
   "source": [
    "# MERGESORT"
   ]
  },
  {
   "cell_type": "markdown",
   "metadata": {},
   "source": [
    "#### 1.  Algorithm starts with seperating all elements using recursion before that find mid\n",
    "#### 2. First iteration is the comparision between two elements which is the end result of seperation\n",
    "#### 3. each iteration has both left and right elements or set of left and right elements\n",
    "#### 4. after each iteration merging occurs with sorting of elements  \n",
    "#### 4. some iterations might not have left elements where comparision does not happen\n",
    "#### 5. i is to track left and j is to track right elements\n",
    "#### 6. k is to track the original array\n",
    "#### 7. i and j can't be greater than the length of left and right because we there won't be any element to compare if index out of range\n",
    "#### 7. after some merging of elements, each value of left is comapred with each value of right\n",
    "#### 8. if left is smaller than right, left is inserted first then right else right is inserted first then left\n",
    "#### 9. it follows divide and conquer technique"
   ]
  },
  {
   "cell_type": "code",
   "execution_count": 15,
   "metadata": {},
   "outputs": [],
   "source": [
    "def seperate(myList):\n",
    "    if len(myList) > 1:\n",
    "        mid = len(myList) // 2\n",
    "        left = myList[:mid]\n",
    "        right = myList[mid:]\n",
    "\n",
    "        # Recursive call on each half\n",
    "        seperate(left)\n",
    "        seperate(right)\n",
    "        mergeSort(myList,left,mid,right)\n",
    "\n",
    "def mergeSort(myList,left,mid,right):\n",
    "\n",
    "    # Three iterators for traversing the two halves i,j and main list K\n",
    "    i, j, k = 0, 0, 0\n",
    "\n",
    "    while i < len(left) and j < len(right):\n",
    "        if left[i] < right[j]:\n",
    "            # The value from the left half has been used\n",
    "            myList[k] = left[i]\n",
    "            # Move the iterator forward\n",
    "            i += 1\n",
    "        else:\n",
    "            myList[k] = right[j]\n",
    "            j += 1\n",
    "        # Move to the next slot\n",
    "        k += 1\n",
    "\n",
    "    # For all the remaining values\n",
    "    while i < len(left):\n",
    "        myList[k] = left[i]\n",
    "        i += 1\n",
    "        k += 1\n",
    "\n",
    "    while j < len(right):\n",
    "        myList[k] = right[j]\n",
    "        j += 1\n",
    "        k += 1"
   ]
  },
  {
   "cell_type": "code",
   "execution_count": 16,
   "metadata": {},
   "outputs": [
    {
     "name": "stdout",
     "output_type": "stream",
     "text": [
      "[1, 2, 3, 4, 5, 11, 13]\n"
     ]
    }
   ],
   "source": [
    "A = [5,4,3,2,1,11,13]\n",
    "seperate(A)\n",
    "print(A)"
   ]
  },
  {
   "cell_type": "markdown",
   "metadata": {},
   "source": [
    "# QUICK SORT"
   ]
  },
  {
   "cell_type": "markdown",
   "metadata": {},
   "source": [
    "#### 1. Algorithm starts by considering the first element as a pivot for partitioning. we need at 2 elements to perform quick sort\n",
    "#### 2. our primary goal is to bring elements smaller than pivot to the left of the pivot and larger elements to the right of the pivot\n",
    "#### 3. Consider two references i and j\n",
    "#### 4. i starts from the begining index ( 0th index ) and j starts from the last index ( n index not n-1 index )\n",
    "#### 5. Now imidietly i is increased and j is decreased if j is passed as len(arr) else j is not decreased imidietly\n",
    "#### 6. i increases from low to high index and j decreases from high to low index\n",
    "#### 7. i is compared with pivot if i is greater than pivot i is stopped else i is increased\n",
    "#### 8. after i has stopped j is compared with pivot if j is smaller than pivot j is stopped else j is decreased\n",
    "#### 9. after j has stopped i and j are swapped\n",
    "#### 10. at some point of iteration j wont stop and j crosses i. \n",
    "#### 11. after the cross swap j and pivot ( j crosses i = i-1 )\n",
    "#### 12. Now we have achieved all elements smaller than pivot are at left and larger at right\n",
    "#### 13. at some iteration we may also achieve j pointing pivot after crossing i. This tells us pivot is in its sorted position\n",
    "#### 14. Now we again consider the first non sorted element as a pivot "
   ]
  },
  {
   "cell_type": "code",
   "execution_count": 11,
   "metadata": {},
   "outputs": [],
   "source": [
    "def quickSort(arr,low,high):\n",
    "    if low < high:\n",
    "        pi = partition(arr,low,high)\n",
    "        quickSort(arr,low,pi - 1)\n",
    "        quickSort(arr,pi + 1,high)\n",
    "        \n",
    "def partition(arr,low,high):\n",
    "    pivot = arr[low]\n",
    "    i = low + 1\n",
    "    j = high\n",
    "    \n",
    "    while True:\n",
    "        while i <= j and arr[i] <= pivot:\n",
    "            i += 1\n",
    "        while i <= j and arr[j] > pivot:\n",
    "            j -= 1\n",
    "        if i <= j:\n",
    "            arr[i], arr[j] = arr[j],arr[i]\n",
    "        else:\n",
    "            break\n",
    "    arr[low],arr[j] = arr[j],arr[low]\n",
    "    return j"
   ]
  },
  {
   "cell_type": "code",
   "execution_count": 15,
   "metadata": {},
   "outputs": [
    {
     "name": "stdout",
     "output_type": "stream",
     "text": [
      "[1, 2, 3, 4, 5, 11, 13]\n"
     ]
    }
   ],
   "source": [
    "A = [5,4,3,2,1,11,13]\n",
    "quickSort(A,0,len(A)-1)\n",
    "print(A)"
   ]
  },
  {
   "cell_type": "markdown",
   "metadata": {},
   "source": [
    "# COUNT SORT"
   ]
  },
  {
   "cell_type": "markdown",
   "metadata": {},
   "source": [
    "#### 1. Algorithm starts by finding the max value in the array A\n",
    "#### 2. a new array B of zeros of length max value + 1 is created\n",
    "#### 3. max value + 1 because index starts with 0\n",
    "#### 4. increment the value of index of array B, based on index of array B matching the value of array A\n",
    "#### 5. this also includes repeated values in array A\n",
    "#### 6. at last if value is present in the index of array B the value is decremented by 1 until becomes 0\n",
    "#### 7. now the index of array B is the sorted output"
   ]
  },
  {
   "cell_type": "code",
   "execution_count": 17,
   "metadata": {},
   "outputs": [],
   "source": [
    "def countSort(arr):\n",
    "    n = len(arr)\n",
    "    maxsize = max(arr)\n",
    "    carray = [0] * (maxsize+1)\n",
    "    \n",
    "    for i in range(n):\n",
    "        carray[arr[i]] += 1\n",
    "    \n",
    "    i,j = 0,0\n",
    "    \n",
    "    while i < maxsize + 1:\n",
    "        if carray[i] > 0:\n",
    "            arr[j] = i\n",
    "            j += 1\n",
    "            carray[i] = carray[i] - 1\n",
    "        else:\n",
    "            i += 1"
   ]
  },
  {
   "cell_type": "code",
   "execution_count": 18,
   "metadata": {},
   "outputs": [
    {
     "name": "stdout",
     "output_type": "stream",
     "text": [
      "[1, 2, 3, 4, 5, 11, 13]\n"
     ]
    }
   ],
   "source": [
    "A = [5,4,3,2,1,11,13]\n",
    "countSort(A)\n",
    "print(A)"
   ]
  },
  {
   "cell_type": "markdown",
   "metadata": {},
   "source": [
    "# RADIX SORT"
   ]
  },
  {
   "cell_type": "markdown",
   "metadata": {},
   "source": [
    "#### 1. Algorithm starts by creating a new array of size ( length of the array which needs to be sorted )\n",
    "#### 2. then we need to find the max element in the array and find the length or how many digits in that element \n",
    "#### 3. by knowing the maximun no of digits in the max value of array we can set the no of iteration needs to be performed\n",
    "#### 4. consider the last digit in each value of the array\n",
    "#### 5. based on the last digit of each element, the elements are placed in thr new array matching the index and the last value\n",
    "#### 6. now we get a new order of elements\n",
    "#### 7. now based last-1 digit of each element, the elements are placed in the new array matching the index and the last value -1\n",
    "#### 8. now we get a new order of elements\n",
    "#### 9. this is repeated until the first digit\n",
    "#### 10. atlast we get a sorted array"
   ]
  },
  {
   "cell_type": "code",
   "execution_count": 13,
   "metadata": {},
   "outputs": [],
   "source": [
    "def radixsort(arr):\n",
    "    n = len(arr)\n",
    "    maxelement = max(arr)\n",
    "    digits = len(str(maxelement))\n",
    "    l = []\n",
    "    bins = [l] * 10\n",
    "    for i in range(digits):\n",
    "        for j in range(n):\n",
    "            e = int((arr[j] / pow(10, i)) % 10) # points the particular digit which we need in the value\n",
    "            if len(bins[e]) > 0:\n",
    "                bins[e].append(arr[j]) # if the element is in the array append it over the index\n",
    "            else:\n",
    "                bins[e] = [arr[j]] # if the element is not in the array place it over the index\n",
    "        k = 0\n",
    "        \n",
    "        # after we have arranged the elements based on particular digit we need to pop it for considering the next digit\n",
    "        for x in range(10):\n",
    "            if len(bins[x]) > 0:\n",
    "                for y in range(len(bins[x])):\n",
    "                    arr[k] = bins[x].pop(0) #we sort the poping element, at last iteration every element is sorted\n",
    "                    k = k + 1"
   ]
  },
  {
   "cell_type": "code",
   "execution_count": 14,
   "metadata": {},
   "outputs": [
    {
     "name": "stdout",
     "output_type": "stream",
     "text": [
      "[28, 63, 250, 651, 835, 947]\n"
     ]
    }
   ],
   "source": [
    "A = [63, 250, 835, 947, 651, 28]\n",
    "radixsort(A)\n",
    "print(A)"
   ]
  }
 ],
 "metadata": {
  "kernelspec": {
   "display_name": "Python 3",
   "language": "python",
   "name": "python3"
  },
  "language_info": {
   "codemirror_mode": {
    "name": "ipython",
    "version": 3
   },
   "file_extension": ".py",
   "mimetype": "text/x-python",
   "name": "python",
   "nbconvert_exporter": "python",
   "pygments_lexer": "ipython3",
   "version": "3.8.5"
  }
 },
 "nbformat": 4,
 "nbformat_minor": 4
}
